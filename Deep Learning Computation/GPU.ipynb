{
  "nbformat": 4,
  "nbformat_minor": 0,
  "metadata": {
    "colab": {
      "name": "GPU.ipynb",
      "provenance": []
    },
    "kernelspec": {
      "name": "python3",
      "display_name": "Python 3"
    },
    "language_info": {
      "name": "python"
    },
    "accelerator": "GPU"
  },
  "cells": [
    {
      "cell_type": "code",
      "metadata": {
        "id": "hW8iGyttfzFD"
      },
      "source": [
        "import torch"
      ],
      "execution_count": 2,
      "outputs": []
    },
    {
      "cell_type": "code",
      "metadata": {
        "id": "qYwyorevf4MV"
      },
      "source": [
        "from torch import nn,functional as f"
      ],
      "execution_count": 4,
      "outputs": []
    },
    {
      "cell_type": "code",
      "metadata": {
        "colab": {
          "base_uri": "https://localhost:8080/"
        },
        "id": "9j6ZvXcvf-SB",
        "outputId": "88be30e2-18a8-4783-e8fb-2879f62981f5"
      },
      "source": [
        "torch.cuda.device_count()"
      ],
      "execution_count": 6,
      "outputs": [
        {
          "output_type": "execute_result",
          "data": {
            "text/plain": [
              "1"
            ]
          },
          "metadata": {},
          "execution_count": 6
        }
      ]
    },
    {
      "cell_type": "code",
      "metadata": {
        "id": "IgzaVFs7gHLe"
      },
      "source": [
        "def try_gpu(i=0):\n",
        "    if torch.cuda.device_count()>=i+1:\n",
        "        return torch.device(f'cuda:{i}')\n",
        "    return torch.device('cpu')"
      ],
      "execution_count": 13,
      "outputs": []
    },
    {
      "cell_type": "code",
      "metadata": {
        "colab": {
          "base_uri": "https://localhost:8080/"
        },
        "id": "9Li9LBmtgSky",
        "outputId": "9a455759-8cfe-47cb-fe9c-54a527cc853f"
      },
      "source": [
        "try_gpu()"
      ],
      "execution_count": 14,
      "outputs": [
        {
          "output_type": "execute_result",
          "data": {
            "text/plain": [
              "device(type='cuda', index=0)"
            ]
          },
          "metadata": {},
          "execution_count": 14
        }
      ]
    },
    {
      "cell_type": "code",
      "metadata": {
        "id": "Ypbnxjz6gsCM"
      },
      "source": [
        "def try_all_gpus():\n",
        "    device_count=torch.cuda.device_count()\n",
        "    devices=[torch.device(f'cuda:{i}') for i in range(device_count)]\n",
        "    return devices if devices else [torch.device('cpu')]"
      ],
      "execution_count": 18,
      "outputs": []
    },
    {
      "cell_type": "code",
      "metadata": {
        "colab": {
          "base_uri": "https://localhost:8080/"
        },
        "id": "eJZcHstghQiV",
        "outputId": "8f417562-21f3-4dcc-fac8-9b509c5eef7c"
      },
      "source": [
        "try_all_gpus()"
      ],
      "execution_count": 19,
      "outputs": [
        {
          "output_type": "execute_result",
          "data": {
            "text/plain": [
              "[device(type='cuda', index=0)]"
            ]
          },
          "metadata": {},
          "execution_count": 19
        }
      ]
    },
    {
      "cell_type": "markdown",
      "metadata": {
        "id": "3zHd3sIohsK8"
      },
      "source": [
        "By default, tensors are created on the CPU. We can query the device where the tensor is located."
      ]
    },
    {
      "cell_type": "code",
      "metadata": {
        "colab": {
          "base_uri": "https://localhost:8080/"
        },
        "id": "LqlOYTTShlkK",
        "outputId": "54793d43-5e1d-4d07-eb13-05ea3d7254bd"
      },
      "source": [
        "x=torch.tensor([1,2])\n",
        "x.device"
      ],
      "execution_count": 23,
      "outputs": [
        {
          "output_type": "execute_result",
          "data": {
            "text/plain": [
              "device(type='cpu')"
            ]
          },
          "metadata": {},
          "execution_count": 23
        }
      ]
    },
    {
      "cell_type": "code",
      "metadata": {
        "colab": {
          "base_uri": "https://localhost:8080/"
        },
        "id": "bH71rfX7h4KZ",
        "outputId": "94e61e49-9062-47a4-9a28-0c469c25501a"
      },
      "source": [
        "x=torch.tensor([1,2],device=try_gpu())\n",
        "x.device"
      ],
      "execution_count": 27,
      "outputs": [
        {
          "output_type": "execute_result",
          "data": {
            "text/plain": [
              "device(type='cuda', index=0)"
            ]
          },
          "metadata": {},
          "execution_count": 27
        }
      ]
    },
    {
      "cell_type": "code",
      "metadata": {
        "colab": {
          "base_uri": "https://localhost:8080/"
        },
        "id": "w9_TP6wwhSbq",
        "outputId": "a29e486a-6868-463f-e007-30a3339092b9"
      },
      "source": [
        "x=torch.ones(5,5,device=try_gpu(0))\n",
        "x.device"
      ],
      "execution_count": 30,
      "outputs": [
        {
          "output_type": "execute_result",
          "data": {
            "text/plain": [
              "device(type='cuda', index=0)"
            ]
          },
          "metadata": {},
          "execution_count": 30
        }
      ]
    },
    {
      "cell_type": "markdown",
      "metadata": {
        "id": "wR_j-8i-kRpc"
      },
      "source": [
        "Do not perform operation between tensors that are on different GPU's.Make sure all the tensors in the perations are in sampe GPU(if you have multiple GPU)\n",
        "![image.png](data:image/png;base64,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)\n"
      ]
    },
    {
      "cell_type": "code",
      "metadata": {
        "colab": {
          "base_uri": "https://localhost:8080/"
        },
        "id": "78pbJmZGhdpv",
        "outputId": "a6043926-c73e-4d3f-df74-186f80caa402"
      },
      "source": [
        "x.cuda(0) is x"
      ],
      "execution_count": 34,
      "outputs": [
        {
          "output_type": "execute_result",
          "data": {
            "text/plain": [
              "True"
            ]
          },
          "metadata": {},
          "execution_count": 34
        }
      ]
    },
    {
      "cell_type": "code",
      "metadata": {
        "colab": {
          "base_uri": "https://localhost:8080/"
        },
        "id": "Of3IW2Sek4Cd",
        "outputId": "19f5a77b-7778-4395-c65c-19fed4d3e264"
      },
      "source": [
        "class MLP(nn.Module):\n",
        "    def __init__(self,inp_shape,out_shape):\n",
        "        super().__init__()\n",
        "        self.hidden=nn.Linear(inp_shape,100)\n",
        "        self.output=nn.Linear(100,out_shape)\n",
        "    def forward(self,x):\n",
        "        return self.output(self.hidden(x))\n",
        "X=torch.randn(10,100)\n",
        "net=MLP(X.shape[1],20)\n",
        "net.to(device=try_gpu())\n",
        "\n"
      ],
      "execution_count": 38,
      "outputs": [
        {
          "output_type": "execute_result",
          "data": {
            "text/plain": [
              "MLP(\n",
              "  (hidden): Linear(in_features=100, out_features=100, bias=True)\n",
              "  (output): Linear(in_features=100, out_features=20, bias=True)\n",
              ")"
            ]
          },
          "metadata": {},
          "execution_count": 38
        }
      ]
    },
    {
      "cell_type": "code",
      "metadata": {
        "id": "wqy5LgTnnLkb"
      },
      "source": [
        ""
      ],
      "execution_count": null,
      "outputs": []
    },
    {
      "cell_type": "markdown",
      "metadata": {
        "id": "q3FjW5okpFKr"
      },
      "source": [
        "The deep learning framework requires all input data for calculation to be on the same device,be it CPU or the same GPU."
      ]
    },
    {
      "cell_type": "code",
      "metadata": {
        "colab": {
          "base_uri": "https://localhost:8080/",
          "height": 381
        },
        "id": "sEY9K5Wfms1i",
        "outputId": "0536d366-91d0-467e-d7b9-db1dcc2efa96"
      },
      "source": [
        "net(X)"
      ],
      "execution_count": 39,
      "outputs": [
        {
          "output_type": "error",
          "ename": "RuntimeError",
          "evalue": "ignored",
          "traceback": [
            "\u001b[0;31m---------------------------------------------------------------------------\u001b[0m",
            "\u001b[0;31mRuntimeError\u001b[0m                              Traceback (most recent call last)",
            "\u001b[0;32m<ipython-input-39-78969eb9b5ba>\u001b[0m in \u001b[0;36m<module>\u001b[0;34m()\u001b[0m\n\u001b[0;32m----> 1\u001b[0;31m \u001b[0mnet\u001b[0m\u001b[0;34m(\u001b[0m\u001b[0mX\u001b[0m\u001b[0;34m)\u001b[0m\u001b[0;34m\u001b[0m\u001b[0;34m\u001b[0m\u001b[0m\n\u001b[0m",
            "\u001b[0;32m/usr/local/lib/python3.7/dist-packages/torch/nn/modules/module.py\u001b[0m in \u001b[0;36m_call_impl\u001b[0;34m(self, *input, **kwargs)\u001b[0m\n\u001b[1;32m   1049\u001b[0m         if not (self._backward_hooks or self._forward_hooks or self._forward_pre_hooks or _global_backward_hooks\n\u001b[1;32m   1050\u001b[0m                 or _global_forward_hooks or _global_forward_pre_hooks):\n\u001b[0;32m-> 1051\u001b[0;31m             \u001b[0;32mreturn\u001b[0m \u001b[0mforward_call\u001b[0m\u001b[0;34m(\u001b[0m\u001b[0;34m*\u001b[0m\u001b[0minput\u001b[0m\u001b[0;34m,\u001b[0m \u001b[0;34m**\u001b[0m\u001b[0mkwargs\u001b[0m\u001b[0;34m)\u001b[0m\u001b[0;34m\u001b[0m\u001b[0;34m\u001b[0m\u001b[0m\n\u001b[0m\u001b[1;32m   1052\u001b[0m         \u001b[0;31m# Do not call functions when jit is used\u001b[0m\u001b[0;34m\u001b[0m\u001b[0;34m\u001b[0m\u001b[0;34m\u001b[0m\u001b[0m\n\u001b[1;32m   1053\u001b[0m         \u001b[0mfull_backward_hooks\u001b[0m\u001b[0;34m,\u001b[0m \u001b[0mnon_full_backward_hooks\u001b[0m \u001b[0;34m=\u001b[0m \u001b[0;34m[\u001b[0m\u001b[0;34m]\u001b[0m\u001b[0;34m,\u001b[0m \u001b[0;34m[\u001b[0m\u001b[0;34m]\u001b[0m\u001b[0;34m\u001b[0m\u001b[0;34m\u001b[0m\u001b[0m\n",
            "\u001b[0;32m<ipython-input-38-a48975595f77>\u001b[0m in \u001b[0;36mforward\u001b[0;34m(self, x)\u001b[0m\n\u001b[1;32m      5\u001b[0m         \u001b[0mself\u001b[0m\u001b[0;34m.\u001b[0m\u001b[0moutput\u001b[0m\u001b[0;34m=\u001b[0m\u001b[0mnn\u001b[0m\u001b[0;34m.\u001b[0m\u001b[0mLinear\u001b[0m\u001b[0;34m(\u001b[0m\u001b[0;36m100\u001b[0m\u001b[0;34m,\u001b[0m\u001b[0mout_shape\u001b[0m\u001b[0;34m)\u001b[0m\u001b[0;34m\u001b[0m\u001b[0;34m\u001b[0m\u001b[0m\n\u001b[1;32m      6\u001b[0m     \u001b[0;32mdef\u001b[0m \u001b[0mforward\u001b[0m\u001b[0;34m(\u001b[0m\u001b[0mself\u001b[0m\u001b[0;34m,\u001b[0m\u001b[0mx\u001b[0m\u001b[0;34m)\u001b[0m\u001b[0;34m:\u001b[0m\u001b[0;34m\u001b[0m\u001b[0;34m\u001b[0m\u001b[0m\n\u001b[0;32m----> 7\u001b[0;31m         \u001b[0;32mreturn\u001b[0m \u001b[0mself\u001b[0m\u001b[0;34m.\u001b[0m\u001b[0moutput\u001b[0m\u001b[0;34m(\u001b[0m\u001b[0mself\u001b[0m\u001b[0;34m.\u001b[0m\u001b[0mhidden\u001b[0m\u001b[0;34m(\u001b[0m\u001b[0mx\u001b[0m\u001b[0;34m)\u001b[0m\u001b[0;34m)\u001b[0m\u001b[0;34m\u001b[0m\u001b[0;34m\u001b[0m\u001b[0m\n\u001b[0m\u001b[1;32m      8\u001b[0m \u001b[0mX\u001b[0m\u001b[0;34m=\u001b[0m\u001b[0mtorch\u001b[0m\u001b[0;34m.\u001b[0m\u001b[0mrandn\u001b[0m\u001b[0;34m(\u001b[0m\u001b[0;36m10\u001b[0m\u001b[0;34m,\u001b[0m\u001b[0;36m100\u001b[0m\u001b[0;34m)\u001b[0m\u001b[0;34m\u001b[0m\u001b[0;34m\u001b[0m\u001b[0m\n\u001b[1;32m      9\u001b[0m \u001b[0mnet\u001b[0m\u001b[0;34m=\u001b[0m\u001b[0mMLP\u001b[0m\u001b[0;34m(\u001b[0m\u001b[0mX\u001b[0m\u001b[0;34m.\u001b[0m\u001b[0mshape\u001b[0m\u001b[0;34m[\u001b[0m\u001b[0;36m1\u001b[0m\u001b[0;34m]\u001b[0m\u001b[0;34m,\u001b[0m\u001b[0;36m20\u001b[0m\u001b[0;34m)\u001b[0m\u001b[0;34m\u001b[0m\u001b[0;34m\u001b[0m\u001b[0m\n",
            "\u001b[0;32m/usr/local/lib/python3.7/dist-packages/torch/nn/modules/module.py\u001b[0m in \u001b[0;36m_call_impl\u001b[0;34m(self, *input, **kwargs)\u001b[0m\n\u001b[1;32m   1049\u001b[0m         if not (self._backward_hooks or self._forward_hooks or self._forward_pre_hooks or _global_backward_hooks\n\u001b[1;32m   1050\u001b[0m                 or _global_forward_hooks or _global_forward_pre_hooks):\n\u001b[0;32m-> 1051\u001b[0;31m             \u001b[0;32mreturn\u001b[0m \u001b[0mforward_call\u001b[0m\u001b[0;34m(\u001b[0m\u001b[0;34m*\u001b[0m\u001b[0minput\u001b[0m\u001b[0;34m,\u001b[0m \u001b[0;34m**\u001b[0m\u001b[0mkwargs\u001b[0m\u001b[0;34m)\u001b[0m\u001b[0;34m\u001b[0m\u001b[0;34m\u001b[0m\u001b[0m\n\u001b[0m\u001b[1;32m   1052\u001b[0m         \u001b[0;31m# Do not call functions when jit is used\u001b[0m\u001b[0;34m\u001b[0m\u001b[0;34m\u001b[0m\u001b[0;34m\u001b[0m\u001b[0m\n\u001b[1;32m   1053\u001b[0m         \u001b[0mfull_backward_hooks\u001b[0m\u001b[0;34m,\u001b[0m \u001b[0mnon_full_backward_hooks\u001b[0m \u001b[0;34m=\u001b[0m \u001b[0;34m[\u001b[0m\u001b[0;34m]\u001b[0m\u001b[0;34m,\u001b[0m \u001b[0;34m[\u001b[0m\u001b[0;34m]\u001b[0m\u001b[0;34m\u001b[0m\u001b[0;34m\u001b[0m\u001b[0m\n",
            "\u001b[0;32m/usr/local/lib/python3.7/dist-packages/torch/nn/modules/linear.py\u001b[0m in \u001b[0;36mforward\u001b[0;34m(self, input)\u001b[0m\n\u001b[1;32m     94\u001b[0m \u001b[0;34m\u001b[0m\u001b[0m\n\u001b[1;32m     95\u001b[0m     \u001b[0;32mdef\u001b[0m \u001b[0mforward\u001b[0m\u001b[0;34m(\u001b[0m\u001b[0mself\u001b[0m\u001b[0;34m,\u001b[0m \u001b[0minput\u001b[0m\u001b[0;34m:\u001b[0m \u001b[0mTensor\u001b[0m\u001b[0;34m)\u001b[0m \u001b[0;34m->\u001b[0m \u001b[0mTensor\u001b[0m\u001b[0;34m:\u001b[0m\u001b[0;34m\u001b[0m\u001b[0;34m\u001b[0m\u001b[0m\n\u001b[0;32m---> 96\u001b[0;31m         \u001b[0;32mreturn\u001b[0m \u001b[0mF\u001b[0m\u001b[0;34m.\u001b[0m\u001b[0mlinear\u001b[0m\u001b[0;34m(\u001b[0m\u001b[0minput\u001b[0m\u001b[0;34m,\u001b[0m \u001b[0mself\u001b[0m\u001b[0;34m.\u001b[0m\u001b[0mweight\u001b[0m\u001b[0;34m,\u001b[0m \u001b[0mself\u001b[0m\u001b[0;34m.\u001b[0m\u001b[0mbias\u001b[0m\u001b[0;34m)\u001b[0m\u001b[0;34m\u001b[0m\u001b[0;34m\u001b[0m\u001b[0m\n\u001b[0m\u001b[1;32m     97\u001b[0m \u001b[0;34m\u001b[0m\u001b[0m\n\u001b[1;32m     98\u001b[0m     \u001b[0;32mdef\u001b[0m \u001b[0mextra_repr\u001b[0m\u001b[0;34m(\u001b[0m\u001b[0mself\u001b[0m\u001b[0;34m)\u001b[0m \u001b[0;34m->\u001b[0m \u001b[0mstr\u001b[0m\u001b[0;34m:\u001b[0m\u001b[0;34m\u001b[0m\u001b[0;34m\u001b[0m\u001b[0m\n",
            "\u001b[0;32m/usr/local/lib/python3.7/dist-packages/torch/nn/functional.py\u001b[0m in \u001b[0;36mlinear\u001b[0;34m(input, weight, bias)\u001b[0m\n\u001b[1;32m   1845\u001b[0m     \u001b[0;32mif\u001b[0m \u001b[0mhas_torch_function_variadic\u001b[0m\u001b[0;34m(\u001b[0m\u001b[0minput\u001b[0m\u001b[0;34m,\u001b[0m \u001b[0mweight\u001b[0m\u001b[0;34m)\u001b[0m\u001b[0;34m:\u001b[0m\u001b[0;34m\u001b[0m\u001b[0;34m\u001b[0m\u001b[0m\n\u001b[1;32m   1846\u001b[0m         \u001b[0;32mreturn\u001b[0m \u001b[0mhandle_torch_function\u001b[0m\u001b[0;34m(\u001b[0m\u001b[0mlinear\u001b[0m\u001b[0;34m,\u001b[0m \u001b[0;34m(\u001b[0m\u001b[0minput\u001b[0m\u001b[0;34m,\u001b[0m \u001b[0mweight\u001b[0m\u001b[0;34m)\u001b[0m\u001b[0;34m,\u001b[0m \u001b[0minput\u001b[0m\u001b[0;34m,\u001b[0m \u001b[0mweight\u001b[0m\u001b[0;34m,\u001b[0m \u001b[0mbias\u001b[0m\u001b[0;34m=\u001b[0m\u001b[0mbias\u001b[0m\u001b[0;34m)\u001b[0m\u001b[0;34m\u001b[0m\u001b[0;34m\u001b[0m\u001b[0m\n\u001b[0;32m-> 1847\u001b[0;31m     \u001b[0;32mreturn\u001b[0m \u001b[0mtorch\u001b[0m\u001b[0;34m.\u001b[0m\u001b[0m_C\u001b[0m\u001b[0;34m.\u001b[0m\u001b[0m_nn\u001b[0m\u001b[0;34m.\u001b[0m\u001b[0mlinear\u001b[0m\u001b[0;34m(\u001b[0m\u001b[0minput\u001b[0m\u001b[0;34m,\u001b[0m \u001b[0mweight\u001b[0m\u001b[0;34m,\u001b[0m \u001b[0mbias\u001b[0m\u001b[0;34m)\u001b[0m\u001b[0;34m\u001b[0m\u001b[0;34m\u001b[0m\u001b[0m\n\u001b[0m\u001b[1;32m   1848\u001b[0m \u001b[0;34m\u001b[0m\u001b[0m\n\u001b[1;32m   1849\u001b[0m \u001b[0;34m\u001b[0m\u001b[0m\n",
            "\u001b[0;31mRuntimeError\u001b[0m: Expected all tensors to be on the same device, but found at least two devices, cuda:0 and cpu! (when checking arugment for argument mat1 in method wrapper_addmm)"
          ]
        }
      ]
    },
    {
      "cell_type": "code",
      "metadata": {
        "colab": {
          "base_uri": "https://localhost:8080/"
        },
        "id": "V1qjQjKKmt5c",
        "outputId": "1a784c98-1f2c-477a-f65c-68d0b954e456"
      },
      "source": [
        "X.device"
      ],
      "execution_count": 40,
      "outputs": [
        {
          "output_type": "execute_result",
          "data": {
            "text/plain": [
              "device(type='cpu')"
            ]
          },
          "metadata": {},
          "execution_count": 40
        }
      ]
    },
    {
      "cell_type": "code",
      "metadata": {
        "id": "KA8BMW8pmurQ"
      },
      "source": [
        "y=torch.randn(10,100,device=try_gpu())"
      ],
      "execution_count": 42,
      "outputs": []
    },
    {
      "cell_type": "code",
      "metadata": {
        "colab": {
          "base_uri": "https://localhost:8080/"
        },
        "id": "HqBHD1hHnOyf",
        "outputId": "74b41d00-2979-4d35-92da-38d117f5b83c"
      },
      "source": [
        "net(y)"
      ],
      "execution_count": 43,
      "outputs": [
        {
          "output_type": "execute_result",
          "data": {
            "text/plain": [
              "tensor([[-0.0218, -0.1564,  0.0273, -0.0823,  0.0083,  0.5026,  0.0026,  0.8022,\n",
              "          0.3551,  0.1098, -0.3133, -0.5927, -0.4626,  0.0938, -0.0926, -0.2344,\n",
              "         -0.2105,  0.1304,  0.2058,  0.3295],\n",
              "        [ 0.0581,  0.4261, -0.1857, -0.2923, -0.1734,  0.0939, -0.3461,  0.5474,\n",
              "          0.4834, -0.1343,  0.3538, -0.2760, -0.2505, -0.0105, -0.3505,  0.0679,\n",
              "         -0.1309,  0.4405,  0.3501,  0.1539],\n",
              "        [ 0.3105,  0.8526, -0.2355,  0.0471,  0.0848, -0.0897, -0.0332, -0.7703,\n",
              "         -0.3713,  0.1263,  0.2643, -0.0947,  0.1964, -0.1522,  0.5815,  0.0903,\n",
              "         -0.2561,  0.0131, -0.0605,  0.0286],\n",
              "        [ 0.6257,  0.0729, -0.0088, -1.0626,  0.0151,  0.0722, -0.3288,  0.5315,\n",
              "          0.7714, -0.5391,  0.3136, -0.1515, -0.4155, -0.1322,  0.1734, -0.4575,\n",
              "          0.1127, -0.0558,  0.3485,  1.1509],\n",
              "        [-0.5029,  0.3826,  0.4526,  0.2281,  0.2596,  0.0194, -0.0245, -0.3446,\n",
              "          0.3132,  0.2315, -0.5065,  0.2754,  0.1403,  0.7607, -0.1297,  0.1613,\n",
              "         -0.2626, -0.0089,  0.1628, -0.4372],\n",
              "        [ 0.0522, -0.4533, -0.2509, -0.6555,  0.3990,  0.0409,  0.0548, -0.0235,\n",
              "          0.1303, -0.0812,  0.0297, -0.5216, -0.0324,  0.2797, -0.6076, -0.4433,\n",
              "          0.1969,  0.2664,  0.7215,  0.0359],\n",
              "        [ 0.1463,  0.0509,  0.1134, -0.4877, -0.0471, -0.0924,  0.9052, -0.3879,\n",
              "         -0.1834,  0.1199, -0.0764, -0.1961,  0.1260, -0.0437, -0.5676, -0.0520,\n",
              "         -0.1773, -0.4069,  0.0834, -0.0348],\n",
              "        [-0.1462,  0.0812,  0.4278,  0.0281, -0.0520, -0.4086, -0.0688, -0.3567,\n",
              "         -0.1833, -0.0262, -0.1468, -0.0751, -0.2787, -0.3289,  0.1866, -0.4559,\n",
              "          0.3687,  0.4048, -0.1456,  0.0288],\n",
              "        [-0.3789,  0.1777, -0.2455,  0.1823,  0.0837, -0.1818,  0.1330, -0.2418,\n",
              "          0.0247,  0.5645, -0.0653,  0.1533, -0.1182,  0.0971, -0.1738, -0.6203,\n",
              "          0.0534, -0.1302, -0.2883,  0.4804],\n",
              "        [-0.1456, -0.0795,  0.7709,  0.3497,  0.6062,  0.0456,  0.1881,  0.2575,\n",
              "         -0.3110,  0.2545, -0.0194,  0.3709,  0.5077,  0.4471, -0.1975,  0.2709,\n",
              "          0.0675,  0.1463, -0.1962,  0.0429]], device='cuda:0',\n",
              "       grad_fn=<AddmmBackward>)"
            ]
          },
          "metadata": {},
          "execution_count": 43
        }
      ]
    },
    {
      "cell_type": "code",
      "metadata": {
        "colab": {
          "base_uri": "https://localhost:8080/"
        },
        "id": "gJ2kw5kEnlns",
        "outputId": "97e58e04-469a-491f-810f-1ee30267bff7"
      },
      "source": [
        "for name,param in net.named_parameters():\n",
        "    print(name)"
      ],
      "execution_count": 53,
      "outputs": [
        {
          "output_type": "stream",
          "name": "stdout",
          "text": [
            "hidden.weight\n",
            "hidden.bias\n",
            "output.weight\n",
            "output.bias\n"
          ]
        }
      ]
    },
    {
      "cell_type": "code",
      "metadata": {
        "id": "wjEviek1oi9c"
      },
      "source": [
        ""
      ],
      "execution_count": null,
      "outputs": []
    }
  ]
}