{
 "cells": [
  {
   "cell_type": "code",
   "execution_count": 2,
   "source": [
    "import torch\r\n",
    "from torch import nn \r\n",
    "from torch.nn import functional as F"
   ],
   "outputs": [],
   "metadata": {}
  },
  {
   "cell_type": "code",
   "execution_count": 12,
   "source": [
    "X=torch.rand(5,20)\r\n",
    "\r\n",
    "net=nn.Sequential(nn.Linear(X.shape[-1],10)\r\n",
    "                , nn.ReLU()\r\n",
    "                ,nn.Linear(10,5))\r\n",
    "net(X)"
   ],
   "outputs": [
    {
     "output_type": "execute_result",
     "data": {
      "text/plain": [
       "tensor([[-0.0026,  0.1767, -0.3312, -0.1216,  0.5105],\n",
       "        [-0.1204,  0.0231, -0.2551, -0.0735,  0.3413],\n",
       "        [ 0.0213,  0.1025, -0.1686, -0.0715,  0.4109],\n",
       "        [-0.1418,  0.1543, -0.1358, -0.1538,  0.4805],\n",
       "        [-0.0527,  0.0540, -0.2521, -0.2497,  0.5389]],\n",
       "       grad_fn=<AddmmBackward>)"
      ]
     },
     "metadata": {},
     "execution_count": 12
    }
   ],
   "metadata": {}
  },
  {
   "cell_type": "code",
   "execution_count": 20,
   "source": [
    "\r\n",
    "net[2].state_dict()['weight']"
   ],
   "outputs": [
    {
     "output_type": "execute_result",
     "data": {
      "text/plain": [
       "tensor([[ 0.3139, -0.3123,  0.1254,  0.2891,  0.0539,  0.1641, -0.0206,  0.0501,\n",
       "          0.3057,  0.2780],\n",
       "        [ 0.2714, -0.0846, -0.0441,  0.2475, -0.1414, -0.1834,  0.2441, -0.0888,\n",
       "         -0.0567,  0.2860],\n",
       "        [-0.2193,  0.0879,  0.1632,  0.2616, -0.2979, -0.0314,  0.3156,  0.2557,\n",
       "         -0.0577, -0.1646],\n",
       "        [-0.1920, -0.1722,  0.1938,  0.2071, -0.0776, -0.2483, -0.2119,  0.1683,\n",
       "          0.1146, -0.0840],\n",
       "        [ 0.2013,  0.2090,  0.1560,  0.0972, -0.0391,  0.1905,  0.3033, -0.1147,\n",
       "         -0.1207,  0.2506]])"
      ]
     },
     "metadata": {},
     "execution_count": 20
    }
   ],
   "metadata": {}
  },
  {
   "cell_type": "code",
   "execution_count": 22,
   "source": [
    "#because we havenot invoked backpropagation \r\n",
    "# for this network yet, it is in its initial state\r\n",
    "net[0].weight.grad==None"
   ],
   "outputs": [
    {
     "output_type": "execute_result",
     "data": {
      "text/plain": [
       "True"
      ]
     },
     "metadata": {},
     "execution_count": 22
    }
   ],
   "metadata": {}
  },
  {
   "cell_type": "code",
   "execution_count": 31,
   "source": [
    "for i, j in net.named_parameters():\r\n",
    "    print([i,j.shape])"
   ],
   "outputs": [
    {
     "output_type": "stream",
     "name": "stdout",
     "text": [
      "['0.weight', torch.Size([10, 20])]\n",
      "['0.bias', torch.Size([10])]\n",
      "['2.weight', torch.Size([5, 10])]\n",
      "['2.bias', torch.Size([5])]\n"
     ]
    }
   ],
   "metadata": {}
  },
  {
   "cell_type": "code",
   "execution_count": 38,
   "source": [
    "net.state_dict()['2.weight']"
   ],
   "outputs": [
    {
     "output_type": "execute_result",
     "data": {
      "text/plain": [
       "tensor([[ 0.3139, -0.3123,  0.1254,  0.2891,  0.0539,  0.1641, -0.0206,  0.0501,\n",
       "          0.3057,  0.2780],\n",
       "        [ 0.2714, -0.0846, -0.0441,  0.2475, -0.1414, -0.1834,  0.2441, -0.0888,\n",
       "         -0.0567,  0.2860],\n",
       "        [-0.2193,  0.0879,  0.1632,  0.2616, -0.2979, -0.0314,  0.3156,  0.2557,\n",
       "         -0.0577, -0.1646],\n",
       "        [-0.1920, -0.1722,  0.1938,  0.2071, -0.0776, -0.2483, -0.2119,  0.1683,\n",
       "          0.1146, -0.0840],\n",
       "        [ 0.2013,  0.2090,  0.1560,  0.0972, -0.0391,  0.1905,  0.3033, -0.1147,\n",
       "         -0.1207,  0.2506]])"
      ]
     },
     "metadata": {},
     "execution_count": 38
    }
   ],
   "metadata": {}
  },
  {
   "cell_type": "code",
   "execution_count": 3,
   "source": [
    "#Nested Block\r\n",
    "X=torch.rand(5,20)\r\n",
    "def block():\r\n",
    "    return nn.Sequential(nn.Linear(X.shape[1],10)\r\n",
    "                        , nn.ReLU()\r\n",
    "                        ,nn.Linear(10,20)\r\n",
    "                        ,nn.ReLU())\r\n",
    "def block2():\r\n",
    "    net=nn.Sequential()\r\n",
    "    num_blocks=5\r\n",
    "    for i in range(num_blocks):\r\n",
    "        net.add_module(f'block_{i}',block())\r\n",
    "    return net\r\n",
    "nested_net=block2()"
   ],
   "outputs": [],
   "metadata": {}
  },
  {
   "cell_type": "code",
   "execution_count": 4,
   "source": [
    "nested_net.add_module('linear',nn.Linear(20,4))"
   ],
   "outputs": [],
   "metadata": {}
  },
  {
   "cell_type": "code",
   "execution_count": 5,
   "source": [
    "nested_net(X)"
   ],
   "outputs": [
    {
     "output_type": "execute_result",
     "data": {
      "text/plain": [
       "tensor([[0.0663, 0.0826, 0.0071, 0.1266],\n",
       "        [0.0663, 0.0826, 0.0071, 0.1266],\n",
       "        [0.0663, 0.0826, 0.0071, 0.1266],\n",
       "        [0.0663, 0.0826, 0.0071, 0.1266],\n",
       "        [0.0663, 0.0826, 0.0071, 0.1266]], grad_fn=<AddmmBackward>)"
      ]
     },
     "metadata": {},
     "execution_count": 5
    }
   ],
   "metadata": {}
  },
  {
   "cell_type": "code",
   "execution_count": 18,
   "source": [],
   "outputs": [
    {
     "output_type": "execute_result",
     "data": {
      "text/plain": [
       "Linear(in_features=20, out_features=10, bias=True)"
      ]
     },
     "metadata": {},
     "execution_count": 18
    }
   ],
   "metadata": {}
  },
  {
   "cell_type": "code",
   "execution_count": 8,
   "source": [
    "#parameter Intialization\r\n",
    "def initialize_normal(layer):\r\n",
    "    if type(layer)==nn.Linear:\r\n",
    "        nn.init.normal_(layer.weight,mean=0,std=0.01)\r\n",
    "        nn.init.zeros_(layer.bias)\r\n",
    "nested_net.apply(initialize_normal)"
   ],
   "outputs": [
    {
     "output_type": "execute_result",
     "data": {
      "text/plain": [
       "Sequential(\n",
       "  (block 0): Sequential(\n",
       "    (0): Linear(in_features=20, out_features=10, bias=True)\n",
       "    (1): ReLU()\n",
       "    (2): Linear(in_features=10, out_features=20, bias=True)\n",
       "    (3): ReLU()\n",
       "  )\n",
       "  (block 1): Sequential(\n",
       "    (0): Linear(in_features=20, out_features=10, bias=True)\n",
       "    (1): ReLU()\n",
       "    (2): Linear(in_features=10, out_features=20, bias=True)\n",
       "    (3): ReLU()\n",
       "  )\n",
       "  (block 2): Sequential(\n",
       "    (0): Linear(in_features=20, out_features=10, bias=True)\n",
       "    (1): ReLU()\n",
       "    (2): Linear(in_features=10, out_features=20, bias=True)\n",
       "    (3): ReLU()\n",
       "  )\n",
       "  (block 3): Sequential(\n",
       "    (0): Linear(in_features=20, out_features=10, bias=True)\n",
       "    (1): ReLU()\n",
       "    (2): Linear(in_features=10, out_features=20, bias=True)\n",
       "    (3): ReLU()\n",
       "  )\n",
       "  (block 4): Sequential(\n",
       "    (0): Linear(in_features=20, out_features=10, bias=True)\n",
       "    (1): ReLU()\n",
       "    (2): Linear(in_features=10, out_features=20, bias=True)\n",
       "    (3): ReLU()\n",
       "  )\n",
       "  (linear): Linear(in_features=20, out_features=4, bias=True)\n",
       ")"
      ]
     },
     "metadata": {},
     "execution_count": 8
    }
   ],
   "metadata": {}
  },
  {
   "cell_type": "code",
   "execution_count": 9,
   "source": [
    "def initialize_constant(layer):\r\n",
    "    if type(layer)==nn.Linear:\r\n",
    "        nn.init.constant_(layer.weight,1)\r\n",
    "        nn.init.zeros_(layer.bias)\r\n",
    "nested_net.apply(initialize_constant)"
   ],
   "outputs": [
    {
     "output_type": "execute_result",
     "data": {
      "text/plain": [
       "Sequential(\n",
       "  (block 0): Sequential(\n",
       "    (0): Linear(in_features=20, out_features=10, bias=True)\n",
       "    (1): ReLU()\n",
       "    (2): Linear(in_features=10, out_features=20, bias=True)\n",
       "    (3): ReLU()\n",
       "  )\n",
       "  (block 1): Sequential(\n",
       "    (0): Linear(in_features=20, out_features=10, bias=True)\n",
       "    (1): ReLU()\n",
       "    (2): Linear(in_features=10, out_features=20, bias=True)\n",
       "    (3): ReLU()\n",
       "  )\n",
       "  (block 2): Sequential(\n",
       "    (0): Linear(in_features=20, out_features=10, bias=True)\n",
       "    (1): ReLU()\n",
       "    (2): Linear(in_features=10, out_features=20, bias=True)\n",
       "    (3): ReLU()\n",
       "  )\n",
       "  (block 3): Sequential(\n",
       "    (0): Linear(in_features=20, out_features=10, bias=True)\n",
       "    (1): ReLU()\n",
       "    (2): Linear(in_features=10, out_features=20, bias=True)\n",
       "    (3): ReLU()\n",
       "  )\n",
       "  (block 4): Sequential(\n",
       "    (0): Linear(in_features=20, out_features=10, bias=True)\n",
       "    (1): ReLU()\n",
       "    (2): Linear(in_features=10, out_features=20, bias=True)\n",
       "    (3): ReLU()\n",
       "  )\n",
       "  (linear): Linear(in_features=20, out_features=4, bias=True)\n",
       ")"
      ]
     },
     "metadata": {},
     "execution_count": 9
    }
   ],
   "metadata": {}
  },
  {
   "cell_type": "code",
   "execution_count": null,
   "source": [],
   "outputs": [],
   "metadata": {}
  },
  {
   "cell_type": "code",
   "execution_count": 13,
   "source": [
    "def xavier(layer):\r\n",
    "    if type(layer)==nn.Linear:\r\n",
    "        nn.init.xavier_uniform_(layer.weight)\r\n",
    "    \r\n",
    "nested_net.apply(xavier)"
   ],
   "outputs": [
    {
     "output_type": "execute_result",
     "data": {
      "text/plain": [
       "Sequential(\n",
       "  (block 0): Sequential(\n",
       "    (0): Linear(in_features=20, out_features=10, bias=True)\n",
       "    (1): ReLU()\n",
       "    (2): Linear(in_features=10, out_features=20, bias=True)\n",
       "    (3): ReLU()\n",
       "  )\n",
       "  (block 1): Sequential(\n",
       "    (0): Linear(in_features=20, out_features=10, bias=True)\n",
       "    (1): ReLU()\n",
       "    (2): Linear(in_features=10, out_features=20, bias=True)\n",
       "    (3): ReLU()\n",
       "  )\n",
       "  (block 2): Sequential(\n",
       "    (0): Linear(in_features=20, out_features=10, bias=True)\n",
       "    (1): ReLU()\n",
       "    (2): Linear(in_features=10, out_features=20, bias=True)\n",
       "    (3): ReLU()\n",
       "  )\n",
       "  (block 3): Sequential(\n",
       "    (0): Linear(in_features=20, out_features=10, bias=True)\n",
       "    (1): ReLU()\n",
       "    (2): Linear(in_features=10, out_features=20, bias=True)\n",
       "    (3): ReLU()\n",
       "  )\n",
       "  (block 4): Sequential(\n",
       "    (0): Linear(in_features=20, out_features=10, bias=True)\n",
       "    (1): ReLU()\n",
       "    (2): Linear(in_features=10, out_features=20, bias=True)\n",
       "    (3): ReLU()\n",
       "  )\n",
       "  (linear): Linear(in_features=20, out_features=4, bias=True)\n",
       ")"
      ]
     },
     "metadata": {},
     "execution_count": 13
    }
   ],
   "metadata": {}
  },
  {
   "cell_type": "code",
   "execution_count": 23,
   "source": [
    "nested_net[0][0].weight.data*nested_net[0][0].weight.data.abs()>=5"
   ],
   "outputs": [
    {
     "output_type": "execute_result",
     "data": {
      "text/plain": [
       "tensor([[False, False, False, False, False, False, False, False, False, False,\n",
       "         False, False, False, False, False, False, False, False, False, False],\n",
       "        [False, False, False, False, False, False, False, False, False, False,\n",
       "         False, False, False, False, False, False, False, False, False, False],\n",
       "        [False, False, False, False, False, False, False, False, False, False,\n",
       "         False, False, False, False, False, False, False, False, False, False],\n",
       "        [False, False, False, False, False, False, False, False, False, False,\n",
       "         False, False, False, False, False, False, False, False, False, False],\n",
       "        [False, False, False, False, False, False, False, False, False, False,\n",
       "         False, False, False, False, False, False, False, False, False, False],\n",
       "        [False, False, False, False, False, False, False, False, False, False,\n",
       "         False, False, False, False, False, False, False, False, False, False],\n",
       "        [False, False, False, False, False, False, False, False, False, False,\n",
       "         False, False, False, False, False, False, False, False, False, False],\n",
       "        [False, False, False, False, False, False, False, False, False, False,\n",
       "         False, False, False, False, False, False, False, False, False, False],\n",
       "        [False, False, False, False, False, False, False, False, False, False,\n",
       "         False, False, False, False, False, False, False, False, False, False],\n",
       "        [False, False, False, False, False, False, False, False, False, False,\n",
       "         False, False, False, False, False, False, False, False, False, False]])"
      ]
     },
     "metadata": {},
     "execution_count": 23
    }
   ],
   "metadata": {}
  },
  {
   "cell_type": "code",
   "execution_count": 25,
   "source": [
    "def custom_initialization(layer):\r\n",
    "    if type(layer)==nn.Linear:\r\n",
    "        nn.init.uniform_(layer.weight,-10,10)\r\n",
    "        layer.weight.data*=layer.weight.data.abs()>=5\r\n",
    "\r\n",
    "\r\n",
    "nested_net.apply(custom_initialization)"
   ],
   "outputs": [
    {
     "output_type": "execute_result",
     "data": {
      "text/plain": [
       "Sequential(\n",
       "  (block 0): Sequential(\n",
       "    (0): Linear(in_features=20, out_features=10, bias=True)\n",
       "    (1): ReLU()\n",
       "    (2): Linear(in_features=10, out_features=20, bias=True)\n",
       "    (3): ReLU()\n",
       "  )\n",
       "  (block 1): Sequential(\n",
       "    (0): Linear(in_features=20, out_features=10, bias=True)\n",
       "    (1): ReLU()\n",
       "    (2): Linear(in_features=10, out_features=20, bias=True)\n",
       "    (3): ReLU()\n",
       "  )\n",
       "  (block 2): Sequential(\n",
       "    (0): Linear(in_features=20, out_features=10, bias=True)\n",
       "    (1): ReLU()\n",
       "    (2): Linear(in_features=10, out_features=20, bias=True)\n",
       "    (3): ReLU()\n",
       "  )\n",
       "  (block 3): Sequential(\n",
       "    (0): Linear(in_features=20, out_features=10, bias=True)\n",
       "    (1): ReLU()\n",
       "    (2): Linear(in_features=10, out_features=20, bias=True)\n",
       "    (3): ReLU()\n",
       "  )\n",
       "  (block 4): Sequential(\n",
       "    (0): Linear(in_features=20, out_features=10, bias=True)\n",
       "    (1): ReLU()\n",
       "    (2): Linear(in_features=10, out_features=20, bias=True)\n",
       "    (3): ReLU()\n",
       "  )\n",
       "  (linear): Linear(in_features=20, out_features=4, bias=True)\n",
       ")"
      ]
     },
     "metadata": {},
     "execution_count": 25
    }
   ],
   "metadata": {}
  },
  {
   "cell_type": "code",
   "execution_count": null,
   "source": [],
   "outputs": [],
   "metadata": {}
  }
 ],
 "metadata": {
  "orig_nbformat": 4,
  "language_info": {
   "name": "python",
   "version": "3.6.8",
   "mimetype": "text/x-python",
   "codemirror_mode": {
    "name": "ipython",
    "version": 3
   },
   "pygments_lexer": "ipython3",
   "nbconvert_exporter": "python",
   "file_extension": ".py"
  },
  "kernelspec": {
   "name": "python3",
   "display_name": "Python 3.6.8 64-bit"
  },
  "interpreter": {
   "hash": "db9dc6d4cc6f4eb1b63b50567ef0052daa9d3b021329b4caf8b52314177c6ded"
  }
 },
 "nbformat": 4,
 "nbformat_minor": 2
}