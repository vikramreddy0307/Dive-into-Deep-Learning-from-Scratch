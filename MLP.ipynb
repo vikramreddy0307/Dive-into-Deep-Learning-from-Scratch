{
 "cells": [
  {
   "cell_type": "code",
   "execution_count": null,
   "id": "b0f28430",
   "metadata": {},
   "outputs": [],
   "source": [
    "import torch\n",
    "from torch import nn\n",
    "import torchvision\n",
    "from torch.utils import data\n",
    "from torchvision import transforms"
   ]
  },
  {
   "cell_type": "code",
   "execution_count": 2,
   "id": "0ce221eb",
   "metadata": {},
   "outputs": [],
   "source": [
    "inp_shape=784\n",
    "num_outputs=10"
   ]
  },
  {
   "cell_type": "code",
   "execution_count": 3,
   "id": "71d3a578",
   "metadata": {},
   "outputs": [],
   "source": [
    "net=nn.Sequential(nn.Flatten(),\n",
    "                 nn.Linear(inp_shape,256),\n",
    "                 nn.ReLU(),\n",
    "                 nn.Linear(256,num_outputs))"
   ]
  },
  {
   "cell_type": "code",
   "execution_count": 4,
   "id": "8dce6644",
   "metadata": {},
   "outputs": [],
   "source": [
    "def init_weights(layer):\n",
    "    if type(layer)==nn.Linear:\n",
    "        nn.init.normal_(layer.weight,std=0.01)\n",
    "        "
   ]
  },
  {
   "cell_type": "code",
   "execution_count": 5,
   "id": "a53a350e",
   "metadata": {},
   "outputs": [
    {
     "data": {
      "text/plain": [
       "Sequential(\n",
       "  (0): Flatten(start_dim=1, end_dim=-1)\n",
       "  (1): Linear(in_features=784, out_features=256, bias=True)\n",
       "  (2): ReLU()\n",
       "  (3): Linear(in_features=256, out_features=10, bias=True)\n",
       ")"
      ]
     },
     "execution_count": 5,
     "metadata": {},
     "output_type": "execute_result"
    }
   ],
   "source": [
    "net.apply(init_weights)"
   ]
  },
  {
   "cell_type": "code",
   "execution_count": 6,
   "id": "35a0b79d",
   "metadata": {},
   "outputs": [],
   "source": [
    "batch_size, lr, num_epochs = 256, 0.1, 10\n",
    "loss=nn.CrossEntropyLoss()\n",
    "optimizer=torch.optim.SGD(net.parameters(),lr=lr)\n"
   ]
  },
  {
   "cell_type": "code",
   "execution_count": 7,
   "id": "38425b7f",
   "metadata": {},
   "outputs": [],
   "source": [
    "def get_dataloader_workers(): #@save\n",
    "    \"\"\"Use 4 processes to read the data.\"\"\"\n",
    "    return 4\n",
    "\n",
    "def load_data_fashion_mnist(batch_size, resize=None): #@save\n",
    "    \"\"\"Download the Fashion-MNIST dataset and then load it into memory.\"\"\"\n",
    "    trans = [transforms.ToTensor()]\n",
    "    if resize:\n",
    "        trans.insert(0, transforms.Resize(resize))\n",
    "    trans = transforms.Compose(trans)\n",
    "    mnist_train = torchvision.datasets.FashionMNIST(root=\"../data\",\n",
    "                                                    train=True,\n",
    "                                                    transform=trans,\n",
    "                                                    download=True)\n",
    "    mnist_test = torchvision.datasets.FashionMNIST(root=\"../data\",\n",
    "                                                    train=False,\n",
    "                                                    transform=trans,\n",
    "                                                    download=True)\n",
    "    return (data.DataLoader(mnist_train, batch_size, shuffle=True,\n",
    "            num_workers=get_dataloader_workers()),\n",
    "            data.DataLoader(mnist_test, batch_size, shuffle=False,\n",
    "            num_workers=get_dataloader_workers()))\n"
   ]
  },
  {
   "cell_type": "code",
   "execution_count": 8,
   "id": "64696e43",
   "metadata": {},
   "outputs": [
    {
     "name": "stderr",
     "output_type": "stream",
     "text": [
      "c:\\users\\vsankepa\\appdata\\local\\programs\\python\\python36\\lib\\site-packages\\torchvision\\datasets\\mnist.py:498: UserWarning: The given NumPy array is not writeable, and PyTorch does not support non-writeable tensors. This means you can write to the underlying (supposedly non-writeable) NumPy array using the tensor. You may want to copy the array to protect its data or make it writeable before converting it to a tensor. This type of warning will be suppressed for the rest of this program. (Triggered internally at  ..\\torch\\csrc\\utils\\tensor_numpy.cpp:180.)\n",
      "  return torch.from_numpy(parsed.astype(m[2], copy=False)).view(*s)\n"
     ]
    }
   ],
   "source": [
    "train_iter,test_iter=load_data_fashion_mnist(batch_size)"
   ]
  },
  {
   "cell_type": "code",
   "execution_count": 9,
   "id": "2c305ec2",
   "metadata": {},
   "outputs": [],
   "source": [
    "def accuracy(y_hat,y):\n",
    "    if y_hat.shape==y.shape:\n",
    "        pass\n",
    "    y_hat=y_hat.argmax(1)\n",
    "    correct_pred=y_hat.type(y.dtype)==y\n",
    "    return float(correct_pred.type(y.dtype).sum())\n"
   ]
  },
  {
   "cell_type": "code",
   "execution_count": 10,
   "id": "e6a1ec1c",
   "metadata": {},
   "outputs": [
    {
     "name": "stdout",
     "output_type": "stream",
     "text": [
      "loss- tensor(0.0041, grad_fn=<DivBackward0>)  Acc- 0.6452333333333333\n",
      "loss- tensor(0.0023, grad_fn=<DivBackward0>)  Acc- 0.792\n",
      "loss- tensor(0.0020, grad_fn=<DivBackward0>)  Acc- 0.8190333333333333\n",
      "loss- tensor(0.0019, grad_fn=<DivBackward0>)  Acc- 0.8322666666666667\n",
      "loss- tensor(0.0018, grad_fn=<DivBackward0>)  Acc- 0.8400166666666666\n",
      "loss- tensor(0.0017, grad_fn=<DivBackward0>)  Acc- 0.8475666666666667\n",
      "loss- tensor(0.0016, grad_fn=<DivBackward0>)  Acc- 0.8519\n",
      "loss- tensor(0.0016, grad_fn=<DivBackward0>)  Acc- 0.8561833333333333\n",
      "loss- tensor(0.0015, grad_fn=<DivBackward0>)  Acc- 0.8617\n",
      "loss- tensor(0.0015, grad_fn=<DivBackward0>)  Acc- 0.8650666666666667\n"
     ]
    }
   ],
   "source": [
    "def train(net,train_iter,loss,optim):\n",
    "    if isinstance(net,torch.nn.Module):\n",
    "        net.train()\n",
    "        \n",
    "    total_loss,total_acc=0,0\n",
    "    data_size=0\n",
    "    for X ,y in train_iter:\n",
    "        data_size+=len(y)\n",
    "        y_hat=net(X)\n",
    "        l=loss(y_hat,y)\n",
    "        total_loss+=l\n",
    "        total_acc+=accuracy(y_hat,y)\n",
    "        \n",
    "        optim.zero_grad()\n",
    "        l.backward()\n",
    "        optim.step()\n",
    "        \n",
    "        \n",
    "            \n",
    "    return total_acc/data_size,total_loss/data_size\n",
    "\n",
    "for i in range(num_epochs):\n",
    "    epoch_acc,epoch_loss=train(net,train_iter,loss,optimizer)\n",
    "    print('loss-',epoch_loss,' Acc-',epoch_acc)\n",
    "            \n",
    "        "
   ]
  },
  {
   "cell_type": "code",
   "execution_count": 11,
   "id": "02f5dde4",
   "metadata": {},
   "outputs": [],
   "source": [
    "import numpy as np"
   ]
  },
  {
   "cell_type": "code",
   "execution_count": 12,
   "id": "d81cb807",
   "metadata": {},
   "outputs": [],
   "source": [
    "max_degree = 20 # Maximum degree of the polynomial\n",
    "n_train, n_test = 100, 100 # Training and test dataset sizes\n",
    "true_w = np.zeros(max_degree) # Allocate lots of empty space\n",
    "true_w[0:4] = np.array([5, 1.2, -3.4, 5.6])\n"
   ]
  },
  {
   "cell_type": "code",
   "execution_count": 14,
   "id": "20c64857",
   "metadata": {},
   "outputs": [
    {
     "data": {
      "text/plain": [
       "(200, 1)"
      ]
     },
     "execution_count": 14,
     "metadata": {},
     "output_type": "execute_result"
    }
   ],
   "source": [
    "features = np.random.normal(size=(n_train + n_test, 1))\n",
    "features.shape"
   ]
  },
  {
   "cell_type": "code",
   "execution_count": 19,
   "id": "64a0d244",
   "metadata": {},
   "outputs": [
    {
     "data": {
      "text/plain": [
       "array([1., 1., 1., 1., 1., 1., 1., 1., 1., 1., 1., 1., 1., 1., 1., 1., 1.,\n",
       "       1., 1., 1., 1., 1., 1., 1., 1., 1., 1., 1., 1., 1., 1., 1., 1., 1.,\n",
       "       1., 1., 1., 1., 1., 1., 1., 1., 1., 1., 1., 1., 1., 1., 1., 1., 1.,\n",
       "       1., 1., 1., 1., 1., 1., 1., 1., 1., 1., 1., 1., 1., 1., 1., 1., 1.,\n",
       "       1., 1., 1., 1., 1., 1., 1., 1., 1., 1., 1., 1., 1., 1., 1., 1., 1.,\n",
       "       1., 1., 1., 1., 1., 1., 1., 1., 1., 1., 1., 1., 1., 1., 1., 1., 1.,\n",
       "       1., 1., 1., 1., 1., 1., 1., 1., 1., 1., 1., 1., 1., 1., 1., 1., 1.,\n",
       "       1., 1., 1., 1., 1., 1., 1., 1., 1., 1., 1., 1., 1., 1., 1., 1., 1.,\n",
       "       1., 1., 1., 1., 1., 1., 1., 1., 1., 1., 1., 1., 1., 1., 1., 1., 1.,\n",
       "       1., 1., 1., 1., 1., 1., 1., 1., 1., 1., 1., 1., 1., 1., 1., 1., 1.,\n",
       "       1., 1., 1., 1., 1., 1., 1., 1., 1., 1., 1., 1., 1., 1., 1., 1., 1.,\n",
       "       1., 1., 1., 1., 1., 1., 1., 1., 1., 1., 1., 1., 1.])"
      ]
     },
     "execution_count": 19,
     "metadata": {},
     "output_type": "execute_result"
    }
   ],
   "source": [
    "poly_features = np.power(features, np.arange(max_degree).reshape(1, -1))\n",
    "poly_features[:,0]"
   ]
  },
  {
   "cell_type": "code",
   "execution_count": 18,
   "id": "e79f3a84",
   "metadata": {},
   "outputs": [
    {
     "data": {
      "text/plain": [
       "array([[ 0,  1,  2,  3,  4,  5,  6,  7,  8,  9, 10, 11, 12, 13, 14, 15,\n",
       "        16, 17, 18, 19]])"
      ]
     },
     "execution_count": 18,
     "metadata": {},
     "output_type": "execute_result"
    }
   ],
   "source": [
    "np.arange(max_degree).reshape(1, -1)"
   ]
  },
  {
   "cell_type": "code",
   "execution_count": null,
   "id": "f87fcad3",
   "metadata": {},
   "outputs": [],
   "source": [
    "np.random.shuffle(features)\n",
    "poly_features = np.power(features, np.arange(max_degree).reshape(1, -1))\n",
    "for i in range(max_degree):\n",
    "    poly_features[:, i] /= math.gamma(i + 1) # `gamma(n)` = (n-1)!"
   ]
  }
 ],
 "metadata": {
  "kernelspec": {
   "display_name": "Python 3",
   "language": "python",
   "name": "python3"
  },
  "language_info": {
   "codemirror_mode": {
    "name": "ipython",
    "version": 3
   },
   "file_extension": ".py",
   "mimetype": "text/x-python",
   "name": "python",
   "nbconvert_exporter": "python",
   "pygments_lexer": "ipython3",
   "version": "3.6.8"
  }
 },
 "nbformat": 4,
 "nbformat_minor": 5
}
