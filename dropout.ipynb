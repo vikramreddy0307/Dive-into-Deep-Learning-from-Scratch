{
 "cells": [
  {
   "cell_type": "code",
   "execution_count": 11,
   "source": [
    "import torch\r\n",
    "from torch import nn\r\n",
    "import pandas as pd"
   ],
   "outputs": [],
   "metadata": {}
  },
  {
   "cell_type": "code",
   "execution_count": 26,
   "source": [
    "#Returns a tensor filled with random numbers from a uniform distribution on the interval [0, 1)[0,1)\r\n",
    "X=torch.rand((2,8))"
   ],
   "outputs": [],
   "metadata": {}
  },
  {
   "cell_type": "code",
   "execution_count": 27,
   "source": [
    "def dropout(X,p):\r\n",
    "    if p==1:\r\n",
    "        return torch.zeros(X.shape).float()\r\n",
    "    elif p==0:\r\n",
    "        return X\r\n",
    "    else:\r\n",
    "        mask=(torch.rand(X.shape)>p).float()\r\n",
    "        X=mask*X/(1.0-p)\r\n",
    "        return X"
   ],
   "outputs": [],
   "metadata": {}
  },
  {
   "cell_type": "code",
   "execution_count": 4,
   "source": [
    "X = torch.arange(16, dtype=torch.float32).reshape((2, 8))"
   ],
   "outputs": [],
   "metadata": {}
  },
  {
   "cell_type": "code",
   "execution_count": 28,
   "source": [
    "dropout(X,0.5)"
   ],
   "outputs": [
    {
     "output_type": "execute_result",
     "data": {
      "text/plain": [
       "tensor([[0.9722, 0.0000, 0.0000, 0.0000, 1.1911, 0.7410, 0.2447, 0.0000],\n",
       "        [0.0000, 0.1765, 1.9159, 0.0000, 0.0000, 0.0000, 0.0000, 0.0000]])"
      ]
     },
     "metadata": {},
     "execution_count": 28
    }
   ],
   "metadata": {}
  },
  {
   "cell_type": "code",
   "execution_count": 29,
   "source": [
    "X"
   ],
   "outputs": [
    {
     "output_type": "execute_result",
     "data": {
      "text/plain": [
       "tensor([[0.4861, 0.7717, 0.8177, 0.2550, 0.5955, 0.3705, 0.1224, 0.6916],\n",
       "        [0.3495, 0.0882, 0.9579, 0.8867, 0.2703, 0.6762, 0.8970, 0.8395]])"
      ]
     },
     "metadata": {},
     "execution_count": 29
    }
   ],
   "metadata": {}
  },
  {
   "cell_type": "code",
   "execution_count": 71,
   "source": [
    "net=nn.Sequential(nn.Flatten(),\n",
    "                 nn.Linear(784,256),\n",
    "                 nn.ReLU(),\n",
    "                 nn.Dropout(0.2),\n",
    "                 nn.Linear(256,10))\n",
    "def init_weights(layer):\n",
    "    if type(layer)==nn.Linear:\n",
    "        nn.init.normal_(layer.weight,std=0.1)\n",
    "net.apply(init_weights)"
   ],
   "outputs": [
    {
     "output_type": "execute_result",
     "data": {
      "text/plain": [
       "Sequential(\n",
       "  (0): Flatten(start_dim=1, end_dim=-1)\n",
       "  (1): Linear(in_features=784, out_features=256, bias=True)\n",
       "  (2): ReLU()\n",
       "  (3): Dropout(p=0.2, inplace=False)\n",
       "  (4): Linear(in_features=256, out_features=10, bias=True)\n",
       ")"
      ]
     },
     "metadata": {},
     "execution_count": 71
    }
   ],
   "metadata": {}
  },
  {
   "cell_type": "code",
   "execution_count": 72,
   "source": [
    "optimizer=torch.optim.SGD(net.parameters(),lr=0.01)\n",
    "loss=nn.CrossEntropyLoss()\n",
    "def accuracy(y_hat,y):\n",
    "#     print(y_hat.shape,y.shape)\n",
    "#     assert y_hat.shape==y.shape\n",
    "    y_hat=y_hat.argmax(1) #by row\n",
    "\n",
    "    correct=y_hat.type(y.dtype)==y\n",
    "    return float(correct.type(y.dtype).sum())"
   ],
   "outputs": [],
   "metadata": {}
  },
  {
   "cell_type": "code",
   "execution_count": 73,
   "source": [
    "\n",
    "# import torchvision\n",
    "# train_loader = torch.utils.data.DataLoader(\n",
    "#   torchvision.datasets.MNIST('/files/', train=True, download=True,\n",
    "#                              transform=torchvision.transforms.Compose([\n",
    "#                                torchvision.transforms.ToTensor(),\n",
    "#                                torchvision.transforms.Normalize(\n",
    "#                                  (0.1307,), (0.3081,))\n",
    "#                              ])),\n",
    "#   batch_size=256, shuffle=True)\n",
    "# test_loader = torch.utils.data.DataLoader(\n",
    "#   torchvision.datasets.MNIST('/files/', train=False, download=True,\n",
    "#                              transform=torchvision.transforms.Compose([\n",
    "#                                torchvision.transforms.ToTensor(),\n",
    "#                                torchvision.transforms.Normalize(\n",
    "#                                  (0.1307,), (0.3081,))\n",
    "#                              ])),\n",
    "#   batch_size=256, shuffle=True)"
   ],
   "outputs": [],
   "metadata": {}
  },
  {
   "cell_type": "code",
   "execution_count": 74,
   "source": [
    "def create_data():\n",
    "    train_loader = torch.utils.data.DataLoader(\n",
    "                          torchvision.datasets.MNIST('/files/', train=True, download=True,\n",
    "                                                     transform=torchvision.transforms.Compose([\n",
    "                                                       torchvision.transforms.ToTensor(),\n",
    "                                                       torchvision.transforms.Normalize(\n",
    "                                                         (0.1307,), (0.3081,))\n",
    "                                                     ])),\n",
    "                                      batch_size=256, shuffle=True)\n",
    "    test_loader = torch.utils.data.DataLoader(\n",
    "                          torchvision.datasets.MNIST('/files/', train=False, download=True,\n",
    "                                                     transform=torchvision.transforms.Compose([\n",
    "                                                       torchvision.transforms.ToTensor(),\n",
    "                                                       torchvision.transforms.Normalize(\n",
    "                                                         (0.1307,), (0.3081,))\n",
    "                                                     ])),\n",
    "                          batch_size=256, shuffle=True)\n",
    "        \n",
    "    return train_loader ,test_loader"
   ],
   "outputs": [],
   "metadata": {}
  },
  {
   "cell_type": "code",
   "execution_count": 75,
   "source": [
    "def training(epochs,net,loss,acc,optim,train_loader):\n",
    "    net.train()\n",
    "    for i in range(epochs):\n",
    "        total_loss,total_acc,data_size=0,0,0\n",
    "        for X,y in train_loader:\n",
    "            data_size+=len(y)\n",
    "            y_hat=net(X)\n",
    "            l=loss(y_hat,y)\n",
    "            total_loss+=l\n",
    "            total_acc+=acc(y_hat,y)\n",
    "            optim.zero_grad()\n",
    "            l.backward()\n",
    "            optim.step()\n",
    "        print('Epoch-',i,' Loss-',total_loss/data_size,' Acc-',total_acc/data_size)\n",
    "        "
   ],
   "outputs": [],
   "metadata": {}
  },
  {
   "cell_type": "code",
   "execution_count": 76,
   "source": [
    "train_loader,test_loader=create_data()"
   ],
   "outputs": [],
   "metadata": {}
  },
  {
   "cell_type": "code",
   "execution_count": 77,
   "source": [
    "training(5,net,loss,accuracy,optimizer,train_loader)"
   ],
   "outputs": [
    {
     "output_type": "stream",
     "name": "stdout",
     "text": [
      "Epoch- 0  Loss- tensor(0.0044, grad_fn=<DivBackward0>)  Acc- 0.68665\n",
      "Epoch- 1  Loss- tensor(0.0021, grad_fn=<DivBackward0>)  Acc- 0.8321666666666667\n",
      "Epoch- 2  Loss- tensor(0.0017, grad_fn=<DivBackward0>)  Acc- 0.8651833333333333\n",
      "Epoch- 3  Loss- tensor(0.0015, grad_fn=<DivBackward0>)  Acc- 0.8813666666666666\n",
      "Epoch- 4  Loss- tensor(0.0014, grad_fn=<DivBackward0>)  Acc- 0.8900666666666667\n"
     ]
    }
   ],
   "metadata": {}
  },
  {
   "cell_type": "code",
   "execution_count": 52,
   "source": [
    "net[1].weight"
   ],
   "outputs": [
    {
     "output_type": "execute_result",
     "data": {
      "text/plain": [
       "Parameter containing:\n",
       "tensor([[ 0.1315,  0.1927, -0.1013,  ...,  0.0380,  0.0527,  0.0513],\n",
       "        [ 0.0249,  0.0594, -0.0098,  ...,  0.3307,  0.0299,  0.0261],\n",
       "        [ 0.0354,  0.0494,  0.0046,  ..., -0.0247,  0.1026, -0.0394],\n",
       "        ...,\n",
       "        [-0.0520, -0.1753,  0.0335,  ...,  0.0927,  0.1847, -0.0168],\n",
       "        [-0.0211,  0.0732,  0.0101,  ...,  0.0420, -0.0950, -0.0056],\n",
       "        [-0.1460, -0.0339,  0.0132,  ...,  0.0821,  0.0428,  0.1787]],\n",
       "       requires_grad=True)"
      ]
     },
     "metadata": {},
     "execution_count": 52
    }
   ],
   "metadata": {}
  },
  {
   "cell_type": "code",
   "execution_count": 53,
   "source": [
    "net[4].weight"
   ],
   "outputs": [
    {
     "output_type": "execute_result",
     "data": {
      "text/plain": [
       "Parameter containing:\n",
       "tensor([[-0.0045, -0.0567,  0.0135,  ...,  0.1550,  0.0364,  0.0462],\n",
       "        [ 0.0719, -0.0557, -0.0207,  ...,  0.0418, -0.0518,  0.1198],\n",
       "        [ 0.0187, -0.0457,  0.0773,  ..., -0.1753,  0.0487, -0.0368],\n",
       "        ...,\n",
       "        [-0.0063,  0.0088, -0.2056,  ...,  0.0691,  0.0834,  0.1116],\n",
       "        [ 0.0356,  0.0272,  0.1315,  ...,  0.0069, -0.0144,  0.1113],\n",
       "        [ 0.1483,  0.1382,  0.1100,  ..., -0.2360, -0.0533,  0.0563]],\n",
       "       requires_grad=True)"
      ]
     },
     "metadata": {},
     "execution_count": 53
    }
   ],
   "metadata": {}
  },
  {
   "cell_type": "code",
   "execution_count": 79,
   "source": [
    "net[4].weight"
   ],
   "outputs": [
    {
     "output_type": "execute_result",
     "data": {
      "text/plain": [
       "Parameter containing:\n",
       "tensor([[-0.2365, -0.0975,  0.0548,  ..., -0.1893, -0.0471,  0.0926],\n",
       "        [-0.1272,  0.0732,  0.0634,  ...,  0.0177,  0.1581, -0.1287],\n",
       "        [ 0.1519,  0.0245,  0.0419,  ..., -0.0447, -0.0708,  0.0498],\n",
       "        ...,\n",
       "        [-0.0633, -0.0823, -0.0161,  ..., -0.0881, -0.0169,  0.1521],\n",
       "        [ 0.0968,  0.0308,  0.0501,  ..., -0.1382, -0.0164,  0.0424],\n",
       "        [-0.0717, -0.0325, -0.1317,  ..., -0.0694,  0.0725,  0.0357]],\n",
       "       requires_grad=True)"
      ]
     },
     "metadata": {},
     "execution_count": 79
    }
   ],
   "metadata": {}
  },
  {
   "cell_type": "markdown",
   "source": [
    "# testing Mode"
   ],
   "metadata": {}
  },
  {
   "cell_type": "code",
   "execution_count": 80,
   "source": [
    "net.eval()"
   ],
   "outputs": [
    {
     "output_type": "execute_result",
     "data": {
      "text/plain": [
       "Sequential(\n",
       "  (0): Flatten(start_dim=1, end_dim=-1)\n",
       "  (1): Linear(in_features=784, out_features=256, bias=True)\n",
       "  (2): ReLU()\n",
       "  (3): Dropout(p=0.2, inplace=False)\n",
       "  (4): Linear(in_features=256, out_features=10, bias=True)\n",
       ")"
      ]
     },
     "metadata": {},
     "execution_count": 80
    }
   ],
   "metadata": {}
  },
  {
   "cell_type": "code",
   "execution_count": 84,
   "source": [
    "total_loss,total_acc,data_size=0,0,0\n",
    "for X,y in test_loader:\n",
    "    data_size+=len(y)\n",
    "    y_hat=net(X)\n",
    "    l=loss(y_hat,y)\n",
    "    total_loss+=l\n",
    "    total_acc+=accuracy(y_hat,y)\n",
    "            \n",
    "print( 'Loss-',total_loss/data_size,' Acc-',total_acc/data_size)"
   ],
   "outputs": [
    {
     "output_type": "stream",
     "name": "stdout",
     "text": [
      "Loss- tensor(0.0010, grad_fn=<DivBackward0>)  Acc- 0.9217\n"
     ]
    }
   ],
   "metadata": {}
  },
  {
   "cell_type": "code",
   "execution_count": null,
   "source": [],
   "outputs": [],
   "metadata": {}
  }
 ],
 "metadata": {
  "kernelspec": {
   "display_name": "Python 3",
   "language": "python",
   "name": "python3"
  },
  "language_info": {
   "codemirror_mode": {
    "name": "ipython",
    "version": 3
   },
   "file_extension": ".py",
   "mimetype": "text/x-python",
   "name": "python",
   "nbconvert_exporter": "python",
   "pygments_lexer": "ipython3",
   "version": "3.6.8"
  }
 },
 "nbformat": 4,
 "nbformat_minor": 5
}